{
 "cells": [
  {
   "attachments": {},
   "cell_type": "markdown",
   "metadata": {},
   "source": [
    "## 准备数据"
   ]
  },
  {
   "cell_type": "code",
   "execution_count": 1,
   "metadata": {},
   "outputs": [],
   "source": [
    "import os\n",
    "import numpy as np\n",
    "import tensorflow as tf\n",
    "from tensorflow import keras\n",
    "from tensorflow.keras import layers, optimizers, datasets\n",
    "\n",
    "os.environ['TF_CPP_MIN_LOG_LEVEL'] = '2'  # or any {'0', '1', '2'}\n",
    "\n",
    "def mnist_dataset():\n",
    "    (x, y), (x_test, y_test) = datasets.mnist.load_data()\n",
    "    #normalize\n",
    "    x = x/255.0\n",
    "    x_test = x_test/255.0\n",
    "    \n",
    "    return (x, y), (x_test, y_test)"
   ]
  },
  {
   "cell_type": "code",
   "execution_count": 2,
   "metadata": {},
   "outputs": [
    {
     "name": "stdout",
     "output_type": "stream",
     "text": [
      "[(1, 'a'), (2, 'b'), (3, 'c'), (4, 'd')]\n"
     ]
    }
   ],
   "source": [
    "print(list(zip([1, 2, 3, 4], ['a', 'b', 'c', 'd'])))"
   ]
  },
  {
   "attachments": {},
   "cell_type": "markdown",
   "metadata": {},
   "source": [
    "## 建立模型"
   ]
  },
  {
   "cell_type": "code",
   "execution_count": 24,
   "metadata": {},
   "outputs": [],
   "source": [
    "# 利用numpy 和tensorflow 、pytorch 搭建全连接神经网络。\n",
    "class myModel:\n",
    "    def __init__(self):\n",
    "        ####################\n",
    "        '''声明模型对应的参数'''\n",
    "        ####################\n",
    "\n",
    "        # 第一个隐藏层权重与偏置\n",
    "        self.W1 = tf.Variable(tf.random.normal([28*28, 128], stddev=0.1))\n",
    "        self.b1 = tf.Variable(tf.zeros([128]))\n",
    "\n",
    "        # 输出层的权重与偏置\n",
    "        self.W2 = tf.Variable(tf.random.normal([128, 10], stddev=0.1))\n",
    "        self.b2 = tf.Variable(tf.zeros([10]))\n",
    "        \n",
    "    def __call__(self, x):\n",
    "        ####################\n",
    "        '''实现模型函数体，返回未归一化的logits'''\n",
    "        ####################\n",
    "\n",
    "        # 输入层到隐藏层，x形状转换为[batch_size, 28*28]\n",
    "        x = tf.reshape(x, [-1, 28*28])\n",
    "\n",
    "        # 第一层    h1 = relu(x*W1 + b1)\n",
    "        h1 = tf.nn.relu(tf.matmul(x, self.W1) + self.b1)\n",
    "\n",
    "        # 输出层    logits = x*W2 + b2\n",
    "        logits = tf.matmul(h1, self.W2) + self.b2\n",
    "\n",
    "        return logits\n",
    "        \n",
    "model = myModel()\n",
    "\n",
    "optimizer = optimizers.Adam()"
   ]
  },
  {
   "attachments": {},
   "cell_type": "markdown",
   "metadata": {},
   "source": [
    "## 计算 loss"
   ]
  },
  {
   "cell_type": "code",
   "execution_count": 25,
   "metadata": {},
   "outputs": [],
   "source": [
    "@tf.function\n",
    "def compute_loss(logits, labels):\n",
    "    '''\n",
    "    compute loss and accuracy(logits compare with labels?)\n",
    "    '''\n",
    "    return tf.reduce_mean(\n",
    "        tf.nn.sparse_softmax_cross_entropy_with_logits(\n",
    "            logits=logits, labels=labels))\n",
    "\n",
    "@tf.function\n",
    "def compute_accuracy(logits, labels):\n",
    "    predictions = tf.argmax(logits, axis=1)\n",
    "    return tf.reduce_mean(tf.cast(tf.equal(predictions, labels), tf.float32))\n",
    "\n",
    "@tf.function\n",
    "def train_one_step(model, optimizer, x, y):\n",
    "    with tf.GradientTape() as tape:\n",
    "        logits = model(x)\n",
    "        loss = compute_loss(logits, y)\n",
    "\n",
    "    # compute gradient\n",
    "    trainable_vars = [model.W1, model.W2, model.b1, model.b2]\n",
    "    grads = tape.gradient(loss, trainable_vars)\n",
    "    for g, v in zip(grads, trainable_vars):\n",
    "        v.assign_sub(0.01*g)    # gradient descent 0.01 before, change to 0.1 could have better performance\n",
    "\n",
    "    accuracy = compute_accuracy(logits, y)\n",
    "\n",
    "    # loss and accuracy is scalar tensor\n",
    "    return loss, accuracy\n",
    "\n",
    "@tf.function\n",
    "def test(model, x, y):\n",
    "    logits = model(x)\n",
    "    loss = compute_loss(logits, y)\n",
    "    accuracy = compute_accuracy(logits, y)\n",
    "    return loss, accuracy"
   ]
  },
  {
   "attachments": {},
   "cell_type": "markdown",
   "metadata": {},
   "source": [
    "## 实际训练"
   ]
  },
  {
   "cell_type": "code",
   "execution_count": 26,
   "metadata": {},
   "outputs": [
    {
     "name": "stdout",
     "output_type": "stream",
     "text": [
      "epoch 0 : loss 2.538133 ; accuracy 0.13455\n",
      "epoch 1 : loss 2.5114567 ; accuracy 0.1393\n",
      "epoch 2 : loss 2.4867558 ; accuracy 0.14385\n",
      "epoch 3 : loss 2.4637377 ; accuracy 0.1488\n",
      "epoch 4 : loss 2.44217 ; accuracy 0.15416667\n",
      "epoch 5 : loss 2.4218552 ; accuracy 0.15893333\n",
      "epoch 6 : loss 2.402635 ; accuracy 0.16456667\n",
      "epoch 7 : loss 2.3843777 ; accuracy 0.16926667\n",
      "epoch 8 : loss 2.3669722 ; accuracy 0.17421667\n",
      "epoch 9 : loss 2.3503194 ; accuracy 0.17958333\n",
      "epoch 10 : loss 2.3343425 ; accuracy 0.18505\n",
      "epoch 11 : loss 2.3189719 ; accuracy 0.19078334\n",
      "epoch 12 : loss 2.30415 ; accuracy 0.19616666\n",
      "epoch 13 : loss 2.2898266 ; accuracy 0.20215\n",
      "epoch 14 : loss 2.2759562 ; accuracy 0.20725\n",
      "epoch 15 : loss 2.2625015 ; accuracy 0.21288334\n",
      "epoch 16 : loss 2.2494283 ; accuracy 0.21863334\n",
      "epoch 17 : loss 2.236708 ; accuracy 0.22403333\n",
      "epoch 18 : loss 2.2243102 ; accuracy 0.22963333\n",
      "epoch 19 : loss 2.212212 ; accuracy 0.2352\n",
      "epoch 20 : loss 2.200394 ; accuracy 0.2409\n",
      "epoch 21 : loss 2.1888375 ; accuracy 0.24626666\n",
      "epoch 22 : loss 2.1775253 ; accuracy 0.25271666\n",
      "epoch 23 : loss 2.1664414 ; accuracy 0.25846666\n",
      "epoch 24 : loss 2.155571 ; accuracy 0.26393333\n",
      "epoch 25 : loss 2.1449027 ; accuracy 0.26981667\n",
      "epoch 26 : loss 2.134422 ; accuracy 0.27571666\n",
      "epoch 27 : loss 2.1241198 ; accuracy 0.28161666\n",
      "epoch 28 : loss 2.1139848 ; accuracy 0.28673333\n",
      "epoch 29 : loss 2.104008 ; accuracy 0.29243332\n",
      "epoch 30 : loss 2.0941815 ; accuracy 0.29775\n",
      "epoch 31 : loss 2.0844986 ; accuracy 0.30375\n",
      "epoch 32 : loss 2.074952 ; accuracy 0.30958334\n",
      "epoch 33 : loss 2.0655339 ; accuracy 0.31545\n",
      "epoch 34 : loss 2.056239 ; accuracy 0.32108334\n",
      "epoch 35 : loss 2.0470622 ; accuracy 0.32666665\n",
      "epoch 36 : loss 2.0379977 ; accuracy 0.3323\n",
      "epoch 37 : loss 2.0290394 ; accuracy 0.33773333\n",
      "epoch 38 : loss 2.0201814 ; accuracy 0.34351668\n",
      "epoch 39 : loss 2.0114195 ; accuracy 0.34948334\n",
      "epoch 40 : loss 2.0027494 ; accuracy 0.35468334\n",
      "epoch 41 : loss 1.9941674 ; accuracy 0.36015\n",
      "epoch 42 : loss 1.9856688 ; accuracy 0.36541668\n",
      "epoch 43 : loss 1.9772497 ; accuracy 0.37081668\n",
      "epoch 44 : loss 1.9689072 ; accuracy 0.37586668\n",
      "epoch 45 : loss 1.9606383 ; accuracy 0.3811\n",
      "epoch 46 : loss 1.9524406 ; accuracy 0.38661668\n",
      "epoch 47 : loss 1.9443129 ; accuracy 0.39151666\n",
      "epoch 48 : loss 1.9362515 ; accuracy 0.39651668\n",
      "epoch 49 : loss 1.928255 ; accuracy 0.40133333\n",
      "test loss 1.9147826 ; accuracy 0.4101\n"
     ]
    }
   ],
   "source": [
    "train_data, test_data = mnist_dataset() # 获取训练集和测试集\n",
    "\n",
    "# 训练50个epoch\n",
    "for epoch in range(50):\n",
    "    loss, accuracy = train_one_step(model, optimizer, \n",
    "                                    tf.constant(train_data[0], dtype=tf.float32), \n",
    "                                    tf.constant(train_data[1], dtype=tf.int64))\n",
    "    print('epoch', epoch, ': loss', loss.numpy(), '; accuracy', accuracy.numpy())\n",
    "# 测试\n",
    "loss, accuracy = test(model, \n",
    "                      tf.constant(test_data[0], dtype=tf.float32), \n",
    "                      tf.constant(test_data[1], dtype=tf.int64))\n",
    "\n",
    "print('test loss', loss.numpy(), '; accuracy', accuracy.numpy())"
   ]
  }
 ],
 "metadata": {
  "kernelspec": {
   "display_name": "Python 3",
   "language": "python",
   "name": "python3"
  },
  "language_info": {
   "codemirror_mode": {
    "name": "ipython",
    "version": 3
   },
   "file_extension": ".py",
   "mimetype": "text/x-python",
   "name": "python",
   "nbconvert_exporter": "python",
   "pygments_lexer": "ipython3",
   "version": "3.11.5"
  }
 },
 "nbformat": 4,
 "nbformat_minor": 2
}
